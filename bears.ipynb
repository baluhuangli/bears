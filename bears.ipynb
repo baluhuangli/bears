{
  "nbformat": 4,
  "nbformat_minor": 0,
  "metadata": {
    "colab": {
      "name": "bears.ipynb",
      "provenance": [],
      "collapsed_sections": [],
      "authorship_tag": "ABX9TyOJez+4jFVS2Egn9B/Yff1+",
      "include_colab_link": true
    },
    "kernelspec": {
      "name": "python3",
      "display_name": "Python 3"
    },
    "accelerator": "GPU",
    "widgets": {
      "application/vnd.jupyter.widget-state+json": {
        "2759c94035184cef91d2fe5617aa09d5": {
          "model_module": "@jupyter-widgets/controls",
          "model_name": "FileUploadModel",
          "state": {
            "_view_name": "FileUploadView",
            "_counter": 1,
            "style": "IPY_MODEL_1e7590265dc9401c8d82f2d5febcee98",
            "_dom_classes": [],
            "description": "Upload",
            "multiple": false,
            "_model_name": "FileUploadModel",
            "data": [
              null
            ],
            "button_style": "",
            "_view_module": "@jupyter-widgets/controls",
            "_model_module_version": "1.5.0",
            "accept": "",
            "_view_count": null,
            "disabled": false,
            "_view_module_version": "1.5.0",
            "error": "",
            "description_tooltip": null,
            "metadata": [
              {
                "name": "0.jpg",
                "type": "image/jpeg",
                "size": 95875,
                "lastModified": 1601041463775
              }
            ],
            "_model_module": "@jupyter-widgets/controls",
            "layout": "IPY_MODEL_a73dd09010bb49d68c12b122239a4de8",
            "icon": "upload"
          }
        },
        "1e7590265dc9401c8d82f2d5febcee98": {
          "model_module": "@jupyter-widgets/controls",
          "model_name": "ButtonStyleModel",
          "state": {
            "_view_name": "StyleView",
            "_model_name": "ButtonStyleModel",
            "_view_module": "@jupyter-widgets/base",
            "_model_module_version": "1.5.0",
            "_view_count": null,
            "button_color": null,
            "font_weight": "",
            "_view_module_version": "1.2.0",
            "_model_module": "@jupyter-widgets/controls"
          }
        },
        "a73dd09010bb49d68c12b122239a4de8": {
          "model_module": "@jupyter-widgets/base",
          "model_name": "LayoutModel",
          "state": {
            "_view_name": "LayoutView",
            "grid_template_rows": null,
            "right": null,
            "justify_content": null,
            "_view_module": "@jupyter-widgets/base",
            "overflow": null,
            "_model_module_version": "1.2.0",
            "_view_count": null,
            "flex_flow": null,
            "width": null,
            "min_width": null,
            "border": null,
            "align_items": null,
            "bottom": null,
            "_model_module": "@jupyter-widgets/base",
            "top": null,
            "grid_column": null,
            "overflow_y": null,
            "overflow_x": null,
            "grid_auto_flow": null,
            "grid_area": null,
            "grid_template_columns": null,
            "flex": null,
            "_model_name": "LayoutModel",
            "justify_items": null,
            "grid_row": null,
            "max_height": null,
            "align_content": null,
            "visibility": null,
            "align_self": null,
            "height": null,
            "min_height": null,
            "padding": null,
            "grid_auto_rows": null,
            "grid_gap": null,
            "max_width": null,
            "order": null,
            "_view_module_version": "1.2.0",
            "grid_template_areas": null,
            "object_position": null,
            "object_fit": null,
            "grid_auto_columns": null,
            "margin": null,
            "display": null,
            "left": null
          }
        },
        "a98f75812bba465a9cf72bebe239182c": {
          "model_module": "@jupyter-widgets/output",
          "model_name": "OutputModel",
          "state": {
            "_view_name": "OutputView",
            "msg_id": "",
            "_dom_classes": [],
            "_model_name": "OutputModel",
            "outputs": [
              {
                "output_type": "display_data",
                "metadata": {
                  "tags": []
                },
                "image/png": "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\n",
                "text/plain": "<PIL.Image.Image image mode=RGB size=102x128 at 0x7EFECA2B2AC8>"
              }
            ],
            "_view_module": "@jupyter-widgets/output",
            "_model_module_version": "1.0.0",
            "_view_count": null,
            "_view_module_version": "1.0.0",
            "layout": "IPY_MODEL_61149baefaa549418063af633bfc5bf3",
            "_model_module": "@jupyter-widgets/output"
          }
        },
        "61149baefaa549418063af633bfc5bf3": {
          "model_module": "@jupyter-widgets/base",
          "model_name": "LayoutModel",
          "state": {
            "_view_name": "LayoutView",
            "grid_template_rows": null,
            "right": null,
            "justify_content": null,
            "_view_module": "@jupyter-widgets/base",
            "overflow": null,
            "_model_module_version": "1.2.0",
            "_view_count": null,
            "flex_flow": null,
            "width": null,
            "min_width": null,
            "border": null,
            "align_items": null,
            "bottom": null,
            "_model_module": "@jupyter-widgets/base",
            "top": null,
            "grid_column": null,
            "overflow_y": null,
            "overflow_x": null,
            "grid_auto_flow": null,
            "grid_area": null,
            "grid_template_columns": null,
            "flex": null,
            "_model_name": "LayoutModel",
            "justify_items": null,
            "grid_row": null,
            "max_height": null,
            "align_content": null,
            "visibility": null,
            "align_self": null,
            "height": null,
            "min_height": null,
            "padding": null,
            "grid_auto_rows": null,
            "grid_gap": null,
            "max_width": null,
            "order": null,
            "_view_module_version": "1.2.0",
            "grid_template_areas": null,
            "object_position": null,
            "object_fit": null,
            "grid_auto_columns": null,
            "margin": null,
            "display": null,
            "left": null
          }
        },
        "676dff6d69dd4cd5bc1fe1dbb22f7eeb": {
          "model_module": "@jupyter-widgets/controls",
          "model_name": "LabelModel",
          "state": {
            "_view_name": "LabelView",
            "style": "IPY_MODEL_a36320e9ef164024a05ad9f1ac123519",
            "_dom_classes": [],
            "description": "",
            "_model_name": "LabelModel",
            "placeholder": "​",
            "_view_module": "@jupyter-widgets/controls",
            "_model_module_version": "1.5.0",
            "value": "Prediction: teddy; Probability: 0.9997",
            "_view_count": null,
            "_view_module_version": "1.5.0",
            "description_tooltip": null,
            "_model_module": "@jupyter-widgets/controls",
            "layout": "IPY_MODEL_4139ae8e83ba465eb64f115d154d8498"
          }
        },
        "a36320e9ef164024a05ad9f1ac123519": {
          "model_module": "@jupyter-widgets/controls",
          "model_name": "DescriptionStyleModel",
          "state": {
            "_view_name": "StyleView",
            "_model_name": "DescriptionStyleModel",
            "description_width": "",
            "_view_module": "@jupyter-widgets/base",
            "_model_module_version": "1.5.0",
            "_view_count": null,
            "_view_module_version": "1.2.0",
            "_model_module": "@jupyter-widgets/controls"
          }
        },
        "4139ae8e83ba465eb64f115d154d8498": {
          "model_module": "@jupyter-widgets/base",
          "model_name": "LayoutModel",
          "state": {
            "_view_name": "LayoutView",
            "grid_template_rows": null,
            "right": null,
            "justify_content": null,
            "_view_module": "@jupyter-widgets/base",
            "overflow": null,
            "_model_module_version": "1.2.0",
            "_view_count": null,
            "flex_flow": null,
            "width": null,
            "min_width": null,
            "border": null,
            "align_items": null,
            "bottom": null,
            "_model_module": "@jupyter-widgets/base",
            "top": null,
            "grid_column": null,
            "overflow_y": null,
            "overflow_x": null,
            "grid_auto_flow": null,
            "grid_area": null,
            "grid_template_columns": null,
            "flex": null,
            "_model_name": "LayoutModel",
            "justify_items": null,
            "grid_row": null,
            "max_height": null,
            "align_content": null,
            "visibility": null,
            "align_self": null,
            "height": null,
            "min_height": null,
            "padding": null,
            "grid_auto_rows": null,
            "grid_gap": null,
            "max_width": null,
            "order": null,
            "_view_module_version": "1.2.0",
            "grid_template_areas": null,
            "object_position": null,
            "object_fit": null,
            "grid_auto_columns": null,
            "margin": null,
            "display": null,
            "left": null
          }
        },
        "fe5dfd0434384211a743770f9f6e10a7": {
          "model_module": "@jupyter-widgets/controls",
          "model_name": "VBoxModel",
          "state": {
            "_view_name": "VBoxView",
            "_dom_classes": [],
            "_model_name": "VBoxModel",
            "_view_module": "@jupyter-widgets/controls",
            "_model_module_version": "1.5.0",
            "_view_count": null,
            "_view_module_version": "1.5.0",
            "box_style": "",
            "layout": "IPY_MODEL_19700715672b4aed99fad421409af4cd",
            "_model_module": "@jupyter-widgets/controls",
            "children": [
              "IPY_MODEL_c4bb018ec5474d7187bdeb776a69412c",
              "IPY_MODEL_84c10520b0604b5b9d18cd1af9daae25",
              "IPY_MODEL_41ad215f61654df69a2c6b2a995ae190",
              "IPY_MODEL_a98f75812bba465a9cf72bebe239182c",
              "IPY_MODEL_676dff6d69dd4cd5bc1fe1dbb22f7eeb"
            ]
          }
        },
        "19700715672b4aed99fad421409af4cd": {
          "model_module": "@jupyter-widgets/base",
          "model_name": "LayoutModel",
          "state": {
            "_view_name": "LayoutView",
            "grid_template_rows": null,
            "right": null,
            "justify_content": null,
            "_view_module": "@jupyter-widgets/base",
            "overflow": null,
            "_model_module_version": "1.2.0",
            "_view_count": null,
            "flex_flow": null,
            "width": null,
            "min_width": null,
            "border": null,
            "align_items": null,
            "bottom": null,
            "_model_module": "@jupyter-widgets/base",
            "top": null,
            "grid_column": null,
            "overflow_y": null,
            "overflow_x": null,
            "grid_auto_flow": null,
            "grid_area": null,
            "grid_template_columns": null,
            "flex": null,
            "_model_name": "LayoutModel",
            "justify_items": null,
            "grid_row": null,
            "max_height": null,
            "align_content": null,
            "visibility": null,
            "align_self": null,
            "height": null,
            "min_height": null,
            "padding": null,
            "grid_auto_rows": null,
            "grid_gap": null,
            "max_width": null,
            "order": null,
            "_view_module_version": "1.2.0",
            "grid_template_areas": null,
            "object_position": null,
            "object_fit": null,
            "grid_auto_columns": null,
            "margin": null,
            "display": null,
            "left": null
          }
        },
        "c4bb018ec5474d7187bdeb776a69412c": {
          "model_module": "@jupyter-widgets/controls",
          "model_name": "LabelModel",
          "state": {
            "_view_name": "LabelView",
            "style": "IPY_MODEL_4d302a15d2264ea8a69e8d1ffe9950a3",
            "_dom_classes": [],
            "description": "",
            "_model_name": "LabelModel",
            "placeholder": "​",
            "_view_module": "@jupyter-widgets/controls",
            "_model_module_version": "1.5.0",
            "value": "Select your bear!",
            "_view_count": null,
            "_view_module_version": "1.5.0",
            "description_tooltip": null,
            "_model_module": "@jupyter-widgets/controls",
            "layout": "IPY_MODEL_0345c91da597459a9380250329dcf345"
          }
        },
        "84c10520b0604b5b9d18cd1af9daae25": {
          "model_module": "@jupyter-widgets/controls",
          "model_name": "FileUploadModel",
          "state": {
            "_view_name": "FileUploadView",
            "_counter": 3,
            "style": "IPY_MODEL_1f840f5abe674274b4fb784965299a77",
            "_dom_classes": [],
            "description": "Upload",
            "multiple": false,
            "_model_name": "FileUploadModel",
            "data": [
              null
            ],
            "button_style": "",
            "_view_module": "@jupyter-widgets/controls",
            "_model_module_version": "1.5.0",
            "accept": "",
            "_view_count": null,
            "disabled": false,
            "_view_module_version": "1.5.0",
            "error": "",
            "description_tooltip": null,
            "metadata": [
              {
                "name": "微信图片_20200909205910.jpg",
                "type": "image/jpeg",
                "size": 90501,
                "lastModified": 1599656358281
              }
            ],
            "_model_module": "@jupyter-widgets/controls",
            "layout": "IPY_MODEL_b295b1a33232498caefb343731955f59",
            "icon": "upload"
          }
        },
        "41ad215f61654df69a2c6b2a995ae190": {
          "model_module": "@jupyter-widgets/controls",
          "model_name": "ButtonModel",
          "state": {
            "_view_name": "ButtonView",
            "style": "IPY_MODEL_b1709edb0ba64765b973ad8cdaff68f5",
            "_dom_classes": [],
            "description": "Classify",
            "_model_name": "ButtonModel",
            "button_style": "",
            "_view_module": "@jupyter-widgets/controls",
            "_model_module_version": "1.5.0",
            "tooltip": "",
            "_view_count": null,
            "disabled": false,
            "_view_module_version": "1.5.0",
            "layout": "IPY_MODEL_eec2c2ce9a604a40a18dc1e6500460f5",
            "_model_module": "@jupyter-widgets/controls",
            "icon": ""
          }
        },
        "4d302a15d2264ea8a69e8d1ffe9950a3": {
          "model_module": "@jupyter-widgets/controls",
          "model_name": "DescriptionStyleModel",
          "state": {
            "_view_name": "StyleView",
            "_model_name": "DescriptionStyleModel",
            "description_width": "",
            "_view_module": "@jupyter-widgets/base",
            "_model_module_version": "1.5.0",
            "_view_count": null,
            "_view_module_version": "1.2.0",
            "_model_module": "@jupyter-widgets/controls"
          }
        },
        "0345c91da597459a9380250329dcf345": {
          "model_module": "@jupyter-widgets/base",
          "model_name": "LayoutModel",
          "state": {
            "_view_name": "LayoutView",
            "grid_template_rows": null,
            "right": null,
            "justify_content": null,
            "_view_module": "@jupyter-widgets/base",
            "overflow": null,
            "_model_module_version": "1.2.0",
            "_view_count": null,
            "flex_flow": null,
            "width": null,
            "min_width": null,
            "border": null,
            "align_items": null,
            "bottom": null,
            "_model_module": "@jupyter-widgets/base",
            "top": null,
            "grid_column": null,
            "overflow_y": null,
            "overflow_x": null,
            "grid_auto_flow": null,
            "grid_area": null,
            "grid_template_columns": null,
            "flex": null,
            "_model_name": "LayoutModel",
            "justify_items": null,
            "grid_row": null,
            "max_height": null,
            "align_content": null,
            "visibility": null,
            "align_self": null,
            "height": null,
            "min_height": null,
            "padding": null,
            "grid_auto_rows": null,
            "grid_gap": null,
            "max_width": null,
            "order": null,
            "_view_module_version": "1.2.0",
            "grid_template_areas": null,
            "object_position": null,
            "object_fit": null,
            "grid_auto_columns": null,
            "margin": null,
            "display": null,
            "left": null
          }
        },
        "1f840f5abe674274b4fb784965299a77": {
          "model_module": "@jupyter-widgets/controls",
          "model_name": "ButtonStyleModel",
          "state": {
            "_view_name": "StyleView",
            "_model_name": "ButtonStyleModel",
            "_view_module": "@jupyter-widgets/base",
            "_model_module_version": "1.5.0",
            "_view_count": null,
            "button_color": null,
            "font_weight": "",
            "_view_module_version": "1.2.0",
            "_model_module": "@jupyter-widgets/controls"
          }
        },
        "b295b1a33232498caefb343731955f59": {
          "model_module": "@jupyter-widgets/base",
          "model_name": "LayoutModel",
          "state": {
            "_view_name": "LayoutView",
            "grid_template_rows": null,
            "right": null,
            "justify_content": null,
            "_view_module": "@jupyter-widgets/base",
            "overflow": null,
            "_model_module_version": "1.2.0",
            "_view_count": null,
            "flex_flow": null,
            "width": null,
            "min_width": null,
            "border": null,
            "align_items": null,
            "bottom": null,
            "_model_module": "@jupyter-widgets/base",
            "top": null,
            "grid_column": null,
            "overflow_y": null,
            "overflow_x": null,
            "grid_auto_flow": null,
            "grid_area": null,
            "grid_template_columns": null,
            "flex": null,
            "_model_name": "LayoutModel",
            "justify_items": null,
            "grid_row": null,
            "max_height": null,
            "align_content": null,
            "visibility": null,
            "align_self": null,
            "height": null,
            "min_height": null,
            "padding": null,
            "grid_auto_rows": null,
            "grid_gap": null,
            "max_width": null,
            "order": null,
            "_view_module_version": "1.2.0",
            "grid_template_areas": null,
            "object_position": null,
            "object_fit": null,
            "grid_auto_columns": null,
            "margin": null,
            "display": null,
            "left": null
          }
        },
        "b1709edb0ba64765b973ad8cdaff68f5": {
          "model_module": "@jupyter-widgets/controls",
          "model_name": "ButtonStyleModel",
          "state": {
            "_view_name": "StyleView",
            "_model_name": "ButtonStyleModel",
            "_view_module": "@jupyter-widgets/base",
            "_model_module_version": "1.5.0",
            "_view_count": null,
            "button_color": null,
            "font_weight": "",
            "_view_module_version": "1.2.0",
            "_model_module": "@jupyter-widgets/controls"
          }
        },
        "eec2c2ce9a604a40a18dc1e6500460f5": {
          "model_module": "@jupyter-widgets/base",
          "model_name": "LayoutModel",
          "state": {
            "_view_name": "LayoutView",
            "grid_template_rows": null,
            "right": null,
            "justify_content": null,
            "_view_module": "@jupyter-widgets/base",
            "overflow": null,
            "_model_module_version": "1.2.0",
            "_view_count": null,
            "flex_flow": null,
            "width": null,
            "min_width": null,
            "border": null,
            "align_items": null,
            "bottom": null,
            "_model_module": "@jupyter-widgets/base",
            "top": null,
            "grid_column": null,
            "overflow_y": null,
            "overflow_x": null,
            "grid_auto_flow": null,
            "grid_area": null,
            "grid_template_columns": null,
            "flex": null,
            "_model_name": "LayoutModel",
            "justify_items": null,
            "grid_row": null,
            "max_height": null,
            "align_content": null,
            "visibility": null,
            "align_self": null,
            "height": null,
            "min_height": null,
            "padding": null,
            "grid_auto_rows": null,
            "grid_gap": null,
            "max_width": null,
            "order": null,
            "_view_module_version": "1.2.0",
            "grid_template_areas": null,
            "object_position": null,
            "object_fit": null,
            "grid_auto_columns": null,
            "margin": null,
            "display": null,
            "left": null
          }
        }
      }
    }
  },
  "cells": [
    {
      "cell_type": "markdown",
      "metadata": {
        "id": "view-in-github",
        "colab_type": "text"
      },
      "source": [
        "<a href=\"https://colab.research.google.com/github/baluhuangli/bears/blob/master/bears.ipynb\" target=\"_parent\"><img src=\"https://colab.research.google.com/assets/colab-badge.svg\" alt=\"Open In Colab\"/></a>"
      ]
    },
    {
      "cell_type": "code",
      "metadata": {
        "id": "wgRv1BgSZcpL"
      },
      "source": [
        "%reload_ext autoreload\n",
        "%autoreload 2\n",
        "%matplotlib inline\n",
        "from fastai.vision import *\n",
        "from fastai.metrics import error_rate\n",
        "from fastai.vision.widgets import *\n",
        "import fastbook\n",
        "from fastbook import *\n"
      ],
      "execution_count": null,
      "outputs": []
    },
    {
      "cell_type": "code",
      "metadata": {
        "id": "DH03_EYzZp0B",
        "outputId": "d1ca2938-fb60-4996-a159-38e45e5c2711",
        "colab": {
          "base_uri": "https://localhost:8080/",
          "height": 35
        }
      },
      "source": [
        "from google.colab import drive\n",
        "drive.mount('/content/gdrive')\n",
        "#import os\n",
        "#os.chdir('gdrive/My Drive/Colab')"
      ],
      "execution_count": null,
      "outputs": [
        {
          "output_type": "stream",
          "text": [
            "Drive already mounted at /content/gdrive; to attempt to forcibly remount, call drive.mount(\"/content/gdrive\", force_remount=True).\n"
          ],
          "name": "stdout"
        }
      ]
    },
    {
      "cell_type": "code",
      "metadata": {
        "id": "GWEORoJne3KY",
        "outputId": "ddad4c1e-4990-4bce-aa8b-a8bcc7db391f",
        "colab": {
          "base_uri": "https://localhost:8080/",
          "height": 55
        }
      },
      "source": [
        "path=Path()\n",
        "path.ls()"
      ],
      "execution_count": null,
      "outputs": [
        {
          "output_type": "execute_result",
          "data": {
            "text/plain": [
              "(#9) [Path('Untitled0.ipynb'),Path('Untitled1.ipynb'),Path('mao.jpg'),Path('Untitled2.ipynb'),Path('“01_intro.ipynb”的副本'),Path('Untitled3.ipynb'),Path('Untitled4.ipynb'),Path('“02_production.ipynb”的副本'),Path('bears.ipynb')]"
            ]
          },
          "metadata": {
            "tags": []
          },
          "execution_count": 16
        }
      ]
    },
    {
      "cell_type": "code",
      "metadata": {
        "id": "j6bVjB-cLNhX",
        "outputId": "336b2bb0-689d-4a95-b640-28255d940767",
        "colab": {
          "base_uri": "https://localhost:8080/",
          "height": 49,
          "referenced_widgets": [
            "2759c94035184cef91d2fe5617aa09d5",
            "1e7590265dc9401c8d82f2d5febcee98",
            "a73dd09010bb49d68c12b122239a4de8"
          ]
        }
      },
      "source": [
        "btn_upload = widgets.FileUpload()\n"
      ],
      "execution_count": null,
      "outputs": [
        {
          "output_type": "display_data",
          "data": {
            "application/vnd.jupyter.widget-view+json": {
              "model_id": "2759c94035184cef91d2fe5617aa09d5",
              "version_minor": 0,
              "version_major": 2
            },
            "text/plain": [
              "FileUpload(value={}, description='Upload')"
            ]
          },
          "metadata": {
            "tags": []
          }
        }
      ]
    },
    {
      "cell_type": "code",
      "metadata": {
        "id": "La7GfOekLpcX"
      },
      "source": [
        "img = PILImage.create(btn_upload.data[-1])\n"
      ],
      "execution_count": null,
      "outputs": []
    },
    {
      "cell_type": "code",
      "metadata": {
        "id": "vD8C6D8hLwen",
        "outputId": "fd5b883a-c08b-48eb-8a55-0ad6e0d64aaa",
        "colab": {
          "base_uri": "https://localhost:8080/",
          "height": 145,
          "referenced_widgets": [
            "a98f75812bba465a9cf72bebe239182c",
            "61149baefaa549418063af633bfc5bf3"
          ]
        }
      },
      "source": [
        "out_pl = widgets.Output()\n",
        "out_pl.clear_output()\n",
        "with out_pl: display(img.to_thumb(128,128))\n",
        "out_pl"
      ],
      "execution_count": null,
      "outputs": [
        {
          "output_type": "display_data",
          "data": {
            "application/vnd.jupyter.widget-view+json": {
              "model_id": "a98f75812bba465a9cf72bebe239182c",
              "version_minor": 0,
              "version_major": 2
            },
            "text/plain": [
              "Output()"
            ]
          },
          "metadata": {
            "tags": []
          }
        }
      ]
    },
    {
      "cell_type": "code",
      "metadata": {
        "id": "IDzesNIhL4N3",
        "outputId": "e08e48e1-f6b0-411e-a0c3-8c90498ba0ed",
        "colab": {
          "base_uri": "https://localhost:8080/",
          "height": 17
        }
      },
      "source": [
        "learn_inf = load_learner('export.pkl')\n",
        "#learn_inf.predict(img)\n",
        "learn_inf.dls.vocab\n",
        "pred,pred_idx,probs = learn_inf.predict(img)"
      ],
      "execution_count": null,
      "outputs": [
        {
          "output_type": "display_data",
          "data": {
            "text/html": [
              ""
            ],
            "text/plain": [
              "<IPython.core.display.HTML object>"
            ]
          },
          "metadata": {
            "tags": []
          }
        }
      ]
    },
    {
      "cell_type": "code",
      "metadata": {
        "id": "VKRSEskKL__o",
        "outputId": "a9294b4a-426a-429f-c7b9-6c9eeeb13f28",
        "colab": {
          "base_uri": "https://localhost:8080/",
          "height": 49,
          "referenced_widgets": [
            "676dff6d69dd4cd5bc1fe1dbb22f7eeb",
            "a36320e9ef164024a05ad9f1ac123519",
            "4139ae8e83ba465eb64f115d154d8498"
          ]
        }
      },
      "source": [
        "lbl_pred = widgets.Label()\n",
        "lbl_pred.value = f'Prediction: {pred}; Probability: {probs[pred_idx]:.04f}'\n",
        "lbl_pred"
      ],
      "execution_count": null,
      "outputs": [
        {
          "output_type": "display_data",
          "data": {
            "application/vnd.jupyter.widget-view+json": {
              "model_id": "676dff6d69dd4cd5bc1fe1dbb22f7eeb",
              "version_minor": 0,
              "version_major": 2
            },
            "text/plain": [
              "Label(value='Prediction: black; Probability: 1.0000')"
            ]
          },
          "metadata": {
            "tags": []
          }
        }
      ]
    },
    {
      "cell_type": "code",
      "metadata": {
        "id": "w2JfxNAuMC_w",
        "outputId": "6aacde5f-e824-445b-c9d6-74749f8a60a9",
        "colab": {
          "base_uri": "https://localhost:8080/",
          "height": 273,
          "referenced_widgets": [
            "fe5dfd0434384211a743770f9f6e10a7",
            "19700715672b4aed99fad421409af4cd",
            "c4bb018ec5474d7187bdeb776a69412c",
            "84c10520b0604b5b9d18cd1af9daae25",
            "41ad215f61654df69a2c6b2a995ae190",
            "a98f75812bba465a9cf72bebe239182c",
            "676dff6d69dd4cd5bc1fe1dbb22f7eeb",
            "4d302a15d2264ea8a69e8d1ffe9950a3",
            "0345c91da597459a9380250329dcf345",
            "1f840f5abe674274b4fb784965299a77",
            "b295b1a33232498caefb343731955f59",
            "b1709edb0ba64765b973ad8cdaff68f5",
            "eec2c2ce9a604a40a18dc1e6500460f5",
            "a36320e9ef164024a05ad9f1ac123519",
            "4139ae8e83ba465eb64f115d154d8498",
            "61149baefaa549418063af633bfc5bf3"
          ]
        }
      },
      "source": [
        "btn_run = widgets.Button(description='Classify')\n",
        "btn_run\n",
        "def on_click_classify(change):\n",
        "    img = PILImage.create(btn_upload.data[-1])\n",
        "    out_pl.clear_output()\n",
        "    with out_pl: display(img.to_thumb(128,128))\n",
        "    pred,pred_idx,probs = learn_inf.predict(img)\n",
        "    lbl_pred.value = f'Prediction: {pred}; Probability: {probs[pred_idx]:.04f}'\n",
        "\n",
        "btn_run.on_click(on_click_classify)\n",
        "btn_upload = widgets.FileUpload()\n",
        "VBox([widgets.Label('Select your bear!'),btn_upload, btn_run, out_pl, lbl_pred])"
      ],
      "execution_count": null,
      "outputs": [
        {
          "output_type": "display_data",
          "data": {
            "application/vnd.jupyter.widget-view+json": {
              "model_id": "fe5dfd0434384211a743770f9f6e10a7",
              "version_minor": 0,
              "version_major": 2
            },
            "text/plain": [
              "VBox(children=(Label(value='Select your bear!'), FileUpload(value={}, description='Upload'), Button(descriptio…"
            ]
          },
          "metadata": {
            "tags": []
          }
        },
        {
          "output_type": "display_data",
          "data": {
            "text/html": [
              ""
            ],
            "text/plain": [
              "<IPython.core.display.HTML object>"
            ]
          },
          "metadata": {
            "tags": []
          }
        },
        {
          "output_type": "display_data",
          "data": {
            "text/html": [
              ""
            ],
            "text/plain": [
              "<IPython.core.display.HTML object>"
            ]
          },
          "metadata": {
            "tags": []
          }
        },
        {
          "output_type": "display_data",
          "data": {
            "text/html": [
              ""
            ],
            "text/plain": [
              "<IPython.core.display.HTML object>"
            ]
          },
          "metadata": {
            "tags": []
          }
        }
      ]
    }
  ]
}